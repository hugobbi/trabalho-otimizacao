{
 "cells": [
  {
   "cell_type": "markdown",
   "metadata": {},
   "source": [
    "### Solving Atrapalhando Fugitivos using Simulated Annealing"
   ]
  },
  {
   "cell_type": "code",
   "execution_count": 179,
   "metadata": {},
   "outputs": [],
   "source": [
    "using DataStructures\n",
    "using Random"
   ]
  },
  {
   "cell_type": "markdown",
   "metadata": {},
   "source": [
    "## Dijkstra"
   ]
  },
  {
   "cell_type": "markdown",
   "metadata": {},
   "source": [
    "Directed Graph is represented as adjacency matrix:  \n",
    "g[0,1] = -1 -> no edge from 0 to 1  \n",
    "g[0,1] = v -> edge with weight v from 0 to 1  "
   ]
  },
  {
   "cell_type": "code",
   "execution_count": 182,
   "metadata": {},
   "outputs": [
    {
     "data": {
      "text/plain": [
       "4×4 Matrix{Int64}:\n",
       " -1   3  10   8\n",
       " -1  -1   1  10\n",
       " -1  -1  -1  -1\n",
       " -1  -1  -1  -1"
      ]
     },
     "metadata": {},
     "output_type": "display_data"
    }
   ],
   "source": [
    "n = 2\n",
    "num_vertices = n^2\n",
    "\n",
    "graph = fill(-1, (num_vertices, num_vertices))\n",
    "\n",
    "graph[1, 2] = 3\n",
    "graph[1, 3] = 10\n",
    "graph[1, 4] = 8\n",
    "\n",
    "graph[2, 3] = 1\n",
    "graph[2, 4] = 10\n",
    "\n",
    "display(graph)"
   ]
  },
  {
   "cell_type": "code",
   "execution_count": 184,
   "metadata": {},
   "outputs": [
    {
     "data": {
      "text/plain": [
       "dijkstra (generic function with 1 method)"
      ]
     },
     "execution_count": 184,
     "metadata": {},
     "output_type": "execute_result"
    }
   ],
   "source": [
    "function addr(i, j, n)\n",
    "    return (i-1) * n + j\n",
    "end\n",
    "\n",
    "const INT_MAX = typemax(Int64)\n",
    "\n",
    "# Dijkstra for adjecency matrix\n",
    "function dijkstra(g, s)\n",
    "    # Initialization\n",
    "    dist = fill(INT_MAX, num_vertices)\n",
    "    visited = fill(false, num_vertices)\n",
    "    dist[s] = 0 \n",
    "\n",
    "    # Generating Q arrays as min-heap\n",
    "    Q = PriorityQueue{Int64, Int64}()\n",
    "    Q[s] = dist[s]\n",
    "\n",
    "    # Main loop\n",
    "    while !isempty(Q)\n",
    "        u, du = peek(Q)\n",
    "        dequeue!(Q)\n",
    "        if !visited[u]\n",
    "            visited[u] = true\n",
    "            adjacent_u = g[u, :]\n",
    "            for v in 1:length(adjacent_u)\n",
    "                if adjacent_u[v] > -1\n",
    "                    # apply resource\n",
    "                    if dist[v] > (du + adjacent_u[v])\n",
    "                        dist[v] = du + adjacent_u[v]\n",
    "                        Q[v] = dist[v]\n",
    "                    end\n",
    "                end\n",
    "            end \n",
    "        end  \n",
    "    end \n",
    "\n",
    "    return dist\n",
    "end "
   ]
  },
  {
   "cell_type": "code",
   "execution_count": 183,
   "metadata": {},
   "outputs": [
    {
     "name": "stdout",
     "output_type": "stream",
     "text": [
      "Dict{String, Array{Tuple{String, Int64}}}(\"1-2\" => [(\"2-1\", 1), (\"2-2\", 10)], \"2-1\" => [], \"1-1\" => [(\"1-2\", 3), (\"2-1\", 10), (\"2-2\", 8)], \"2-2\" => [])"
     ]
    }
   ],
   "source": [
    "# Dijkstra for adjecency list\n",
    "function dijkstra(g, s)\n",
    "    # Initialization\n",
    "    dist = Dict{String, Int64}()\n",
    "    visited = Dict{String, Bool}()\n",
    "    V = keys(g)\n",
    "    for v in V\n",
    "        dist[v] = INT_MAX\n",
    "        visited[v] = false\n",
    "    end\n",
    "    dist[s] = 0\n",
    "\n",
    "    # Generating Q arrays as min-heap\n",
    "    Q = PriorityQueue{String, Int64}()\n",
    "    Q[s] = dist[s]\n",
    "\n",
    "    # Main loop\n",
    "    while !isempty(Q)\n",
    "        u, du = peek(Q)\n",
    "        dequeue!(Q)\n",
    "        if !visited[u]\n",
    "            visited[u] = true\n",
    "            adjacent_u = g[u]\n",
    "            for v in adjacent_u\n",
    "                if dist[v[1]] > (du + v[2])\n",
    "                    dist[v[1]] = du + v[2]\n",
    "                    Q[v[1]] = dist[v[1]]\n",
    "                end\n",
    "            end \n",
    "        end  \n",
    "    end \n",
    "\n",
    "    return dist\n",
    "end\n",
    "\n",
    "graph2 = Dict{String, Array{Tuple{String, Int64}}}()\n",
    "graph2[\"1-1\"] = [(\"1-2\", 3), (\"2-1\", 10), (\"2-2\", 8)]\n",
    "graph2[\"1-2\"] = [(\"2-1\", 1), (\"2-2\", 10)]\n",
    "graph2[\"2-1\"] = []\n",
    "graph2[\"2-2\"] = []\n",
    "\n",
    "print(graph2)"
   ]
  },
  {
   "cell_type": "markdown",
   "metadata": {},
   "source": [
    "## Simulated Annealing"
   ]
  },
  {
   "cell_type": "code",
   "execution_count": 366,
   "metadata": {},
   "outputs": [
    {
     "data": {
      "text/plain": [
       "generateNextSolution (generic function with 1 method)"
      ]
     },
     "execution_count": 366,
     "metadata": {},
     "output_type": "execute_result"
    }
   ],
   "source": [
    "function calcNumResources(R)\n",
    "    k = 0\n",
    "    for group in R\n",
    "        k += group[2]\n",
    "    end\n",
    "    \n",
    "    return k\n",
    "end\n",
    "\n",
    "function applyResources(g, u, delta)\n",
    "    neighbours_u = g[u, :]\n",
    "    for v in 1:length(neighbours_u)\n",
    "        if neighbours_u[v] > -1\n",
    "            g[u, v] += delta\n",
    "        end\n",
    "    end\n",
    "end\n",
    "\n",
    "function numReachableVertices(g, start, t_max)\n",
    "    # get current solution and calc distanes with sol\n",
    "    # copy g\n",
    "    distances = dijkstra(g, start)\n",
    "    numVertices = 0\n",
    "    for d in distances\n",
    "        if d <= t_max\n",
    "            numVertices += 1\n",
    "        end\n",
    "    end\n",
    "    \n",
    "    return numVertices\n",
    "end\n",
    "\n",
    "function generateNextSolution(S, num_vertices)\n",
    "    n = length(S)\n",
    "    index = rand(1:n)\n",
    "    S_next = copy(S)\n",
    "\n",
    "    random_vertex = rand(1:num_vertices)\n",
    "    while random_vertex == S[index]\n",
    "        random_vertex = rand(1:num_vertices)\n",
    "    end\n",
    "\n",
    "    S_next[index] = random_vertex\n",
    "\n",
    "    return S'\n",
    "end"
   ]
  },
  {
   "cell_type": "code",
   "execution_count": 363,
   "metadata": {},
   "outputs": [
    {
     "data": {
      "text/plain": [
       "4-element Vector{Int64}:\n",
       " 13\n",
       "  6\n",
       " 12\n",
       "  7"
      ]
     },
     "execution_count": 363,
     "metadata": {},
     "output_type": "execute_result"
    }
   ],
   "source": [
    "n = 4\n",
    "delta_t = 5\n",
    "t_max = 20\n",
    "R = [(5, 2), (10, 2)]\n",
    "k = calcNumResources(R)\n",
    "num_vertices = n^2\n",
    "\n",
    "# Generating random initial solution\n",
    "Random.seed!(11235813)\n",
    "S = randperm(num_vertices)[1:k]"
   ]
  },
  {
   "cell_type": "code",
   "execution_count": 364,
   "metadata": {},
   "outputs": [
    {
     "data": {
      "text/plain": [
       "16×16 Matrix{Int64}:\n",
       " -1   2  -1  -1   1  -1  -1  -1  -1  -1  -1  -1  -1  -1  -1  -1\n",
       " -1  -1   1  -1  -1   2  -1  -1  -1  -1  -1  -1  -1  -1  -1  -1\n",
       " -1  -1  -1   1  -1  -1   1  -1  -1  -1  -1  -1  -1  -1  -1  -1\n",
       " -1  -1  -1  -1  -1  -1  -1   3  -1  -1  -1  -1  -1  -1  -1  -1\n",
       " -1  -1  -1  -1  -1   2  -1  -1   3  -1  -1  -1  -1  -1  -1  -1\n",
       " -1  -1  -1  -1  -1  -1  -1  -1  -1   1  -1  -1  -1  -1  -1  -1\n",
       " -1  -1  -1  -1  -1  -1  -1  -1  -1  -1   3  -1  -1  -1  -1  -1\n",
       " -1  -1  -1  -1  -1  -1  -1  -1  -1  -1  -1   1  -1  -1  -1  -1\n",
       " -1  -1  -1  -1  -1  -1  -1  -1  -1  -1  -1  -1   1  -1  -1  -1\n",
       " -1  -1  -1  -1  -1  -1  -1  -1  -1  -1   2  -1  -1  -1  -1  -1\n",
       " -1  -1  -1  -1  -1  -1  -1  -1  -1  -1  -1  -1  -1  -1  -1  -1\n",
       " -1  -1  -1  -1  -1  -1  -1  -1  -1  -1  -1  -1  -1  -1  -1   2\n",
       " -1  -1  -1  -1  -1  -1  -1  -1  -1  -1  -1  -1  -1   5  -1  -1\n",
       " -1  -1  -1  -1  -1  -1  -1  -1  -1  -1  -1  -1  -1  -1   1  -1\n",
       " -1  -1  -1  -1  -1  -1  -1  -1  -1  -1  -1  -1  -1  -1  -1   1\n",
       " -1  -1  -1  -1  -1  -1  -1  -1  -1  -1  -1  -1  -1  -1  -1  -1"
      ]
     },
     "metadata": {},
     "output_type": "display_data"
    }
   ],
   "source": [
    "graph = fill(-1, (num_vertices, num_vertices))\n",
    "graph[1, 2] = 2\n",
    "graph[1, 5] = 1\n",
    "graph[2, 3] = 1\n",
    "graph[2, 6] = 2\n",
    "graph[3, 4] = 1\n",
    "graph[3, 7] = 1\n",
    "graph[4, 8] = 3\n",
    "graph[5, 6] = 2\n",
    "graph[5, 9] = 3\n",
    "graph[6, 10] = 1\n",
    "graph[7, 11] = 3\n",
    "graph[8, 12] = 1\n",
    "graph[9, 13] = 1\n",
    "graph[10, 11] = 2\n",
    "graph[12, 16] = 2\n",
    "graph[13, 14] = 5\n",
    "graph[14, 15] = 1\n",
    "graph[15, 16] = 1\n",
    "\n",
    "display(graph)"
   ]
  },
  {
   "attachments": {
    "image.png": {
     "image/png": "[encoded data removed]"
    }
   },
   "cell_type": "markdown",
   "metadata": {},
   "source": [
    "![image.png](attachment:image.png)"
   ]
  },
  {
   "cell_type": "code",
   "execution_count": 365,
   "metadata": {},
   "outputs": [
    {
     "data": {
      "text/plain": [
       "15"
      ]
     },
     "execution_count": 365,
     "metadata": {},
     "output_type": "execute_result"
    }
   ],
   "source": [
    "numReachableVertices(graph, 1, 10)"
   ]
  },
  {
   "cell_type": "code",
   "execution_count": 207,
   "metadata": {},
   "outputs": [
    {
     "data": {
      "text/plain": [
       "simulatedAnnealing (generic function with 1 method)"
      ]
     },
     "execution_count": 207,
     "metadata": {},
     "output_type": "execute_result"
    }
   ],
   "source": [
    "function simulatedAnnealing(S, T, Tf, r, I)\n",
    "    S_best = copy(S)\n",
    "    while T > Tf\n",
    "        for _ in 1:I\n",
    "            # apply res S_best\n",
    "            #F = numReachableVertices(graph_best, start, t_max)\n",
    "            S_next = generateNextSolution(S, num_vertices)\n",
    "            # apply res S_new\n",
    "            #F_new = \n",
    "            delta_e = F_new - F\n",
    "            if delta_e <= 0\n",
    "                S_best = copy(S_next)\n",
    "            else\n",
    "                if rand() < min(exp(-delta_e/T), 1.0)\n",
    "                    S_best = copy(S_next)\n",
    "                end\n",
    "            end\n",
    "        end\n",
    "        T *= r\n",
    "    end\n",
    "    \n",
    "    return S_best \n",
    "end"
   ]
  },
  {
   "cell_type": "code",
   "execution_count": 361,
   "metadata": {},
   "outputs": [
    {
     "data": {
      "text/plain": [
       "0.3194328200286024"
      ]
     },
     "execution_count": 361,
     "metadata": {},
     "output_type": "execute_result"
    }
   ],
   "source": [
    "rand() * (1.0 - 0.0) + 0.0"
   ]
  }
 ],
 "metadata": {
  "kernelspec": {
   "display_name": "Julia 1.9.4",
   "language": "julia",
   "name": "julia-1.9"
  },
  "language_info": {
   "file_extension": ".jl",
   "mimetype": "application/julia",
   "name": "julia",
   "version": "1.9.4"
  }
 },
 "nbformat": 4,
 "nbformat_minor": 2
}
